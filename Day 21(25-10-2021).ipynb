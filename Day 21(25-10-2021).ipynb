{
 "cells": [
  {
   "cell_type": "markdown",
   "metadata": {},
   "source": [
    "# Re For To Validate Roll Number \n",
    "- 1241A0304\n",
    "- 1241A0302\n"
   ]
  },
  {
   "cell_type": "code",
   "execution_count": 1,
   "metadata": {},
   "outputs": [
    {
     "data": {
      "text/plain": [
       "True"
      ]
     },
     "execution_count": 1,
     "metadata": {},
     "output_type": "execute_result"
    }
   ],
   "source": [
    "import re\n",
    "def rollnumber(n):\n",
    "    pattern = \"^[1][2][4][1][A][0-9]{4}$\"\n",
    "    if re.match(pattern,n):\n",
    "        return True\n",
    "    return False\n",
    "rollnumber(\"1241A0304\")"
   ]
  },
  {
   "cell_type": "code",
   "execution_count": 2,
   "metadata": {},
   "outputs": [
    {
     "data": {
      "text/plain": [
       "True"
      ]
     },
     "execution_count": 2,
     "metadata": {},
     "output_type": "execute_result"
    }
   ],
   "source": [
    "rollnumber(\"1241A0302\")"
   ]
  },
  {
   "cell_type": "markdown",
   "metadata": {},
   "source": [
    "# Re to validate Email id\n",
    "- Ex:\n",
    "  - username@domainname.extension\n",
    "  - username\n",
    "     - length [6-15]\n",
    "     - spl characters\n",
    "  - Domain name\n",
    "     - lenght [3-17]\n",
    "     - no spl characters\n",
    "  - Extension:\n",
    "     - lenght [2-4]"
   ]
  },
  {
   "cell_type": "code",
   "execution_count": 3,
   "metadata": {},
   "outputs": [
    {
     "data": {
      "text/plain": [
       "True"
      ]
     },
     "execution_count": 3,
     "metadata": {},
     "output_type": "execute_result"
    }
   ],
   "source": [
    "def email(n):\n",
    "    pattern = \"^[a-zA-Z0-9_.]{6,15}[@][a-z]{3,17}[.][a-z]{2,4}$\"\n",
    "    if re.match(pattern,n):\n",
    "        return True\n",
    "    return False\n",
    "email(\"Ajaykumar12@gmail.com\")"
   ]
  },
  {
   "cell_type": "markdown",
   "metadata": {},
   "source": [
    "# Python Turtle :\n",
    "- Turtle Graphics\n",
    "- It Is a feature like drawing board\n",
    "- We can use functions like turtle.forward(),turtle.backward() is used for to give lenght and turtle.right() ,turtle.left() is used for to give angle\n",
    "- Steps to plot a graph using Turtle\n",
    "   - import turtle Module\n",
    "   - Create a Turtle\n",
    "   - Draw around using turtle methods and functions\n",
    "   - run Turtle.done()"
   ]
  },
  {
   "cell_type": "code",
   "execution_count": 4,
   "metadata": {},
   "outputs": [],
   "source": [
    "# Draw a Triangle\n",
    "import turtle as t\n",
    "turtle = t.Turtle()\n",
    "\n",
    "for i in range(3):\n",
    "    t.forward(100) # Lenght\n",
    "    t.right(120)  # ANgle\n",
    "t.done()    "
   ]
  },
  {
   "cell_type": "code",
   "execution_count": 6,
   "metadata": {},
   "outputs": [],
   "source": [
    "# Draw a sqaure\n",
    "import turtle as t\n",
    "turtle = t.Turtle()\n",
    "\n",
    "for i in range(4):\n",
    "    t.forward(100) # Lenght\n",
    "    t.right(90)  # ANgle\n",
    "t.done()   "
   ]
  },
  {
   "cell_type": "code",
   "execution_count": 10,
   "metadata": {},
   "outputs": [],
   "source": [
    "# Draw a Pentagon\n",
    "turtle = t.Turtle()\n",
    "for i in range(5):\n",
    "    t.forward(100) # Lenght\n",
    "    t.right(72)  # ANgle\n",
    "t.done()   "
   ]
  },
  {
   "cell_type": "code",
   "execution_count": 16,
   "metadata": {},
   "outputs": [],
   "source": [
    "# Spiraling Star\n",
    "turtle = t.Turtle()\n",
    "t.pencolor(\"red\")\n",
    "for i in range(50):\n",
    "    t.forward(i * 10)\n",
    "    t.right(144)\n",
    "t.done()"
   ]
  },
  {
   "cell_type": "code",
   "execution_count": 14,
   "metadata": {},
   "outputs": [],
   "source": [
    "# Sqaure Spiraling\n",
    "turtle = t.Turtle()\n",
    "turtle.pencolor(\"blue\")\n",
    "for i in range(150):\n",
    "    t.forward(i) \n",
    "    t.right(91)\n",
    "t.done()"
   ]
  },
  {
   "cell_type": "code",
   "execution_count": 18,
   "metadata": {},
   "outputs": [],
   "source": [
    "# Hexagon with multiple Colors\n",
    "from turtle import *\n",
    "colors = ['blue','red','yellow','green','orange','purple']\n",
    "for i in range(360):\n",
    "    pencolor(colors[i %6])\n",
    "    width(i/100 +1)\n",
    "    speed(150)\n",
    "    forward(i)\n",
    "    left(59)"
   ]
  },
  {
   "cell_type": "code",
   "execution_count": 1,
   "metadata": {},
   "outputs": [
    {
     "ename": "AttributeError",
     "evalue": "'Turtle' object has no attribute 'done'",
     "output_type": "error",
     "traceback": [
      "\u001b[1;31m---------------------------------------------------------------------------\u001b[0m",
      "\u001b[1;31mAttributeError\u001b[0m                            Traceback (most recent call last)",
      "\u001b[1;32m<ipython-input-1-f14b9ea2ffc3>\u001b[0m in \u001b[0;36m<module>\u001b[1;34m\u001b[0m\n\u001b[0;32m     14\u001b[0m     \u001b[0msqaure\u001b[0m\u001b[1;33m(\u001b[0m\u001b[1;36m100\u001b[0m\u001b[1;33m,\u001b[0m\u001b[1;36m90\u001b[0m\u001b[1;33m)\u001b[0m\u001b[1;33m\u001b[0m\u001b[1;33m\u001b[0m\u001b[0m\n\u001b[0;32m     15\u001b[0m     \u001b[0mt\u001b[0m\u001b[1;33m.\u001b[0m\u001b[0mright\u001b[0m\u001b[1;33m(\u001b[0m\u001b[1;36m5\u001b[0m\u001b[1;33m)\u001b[0m\u001b[1;33m\u001b[0m\u001b[1;33m\u001b[0m\u001b[0m\n\u001b[1;32m---> 16\u001b[1;33m \u001b[0mt\u001b[0m\u001b[1;33m.\u001b[0m\u001b[0mdone\u001b[0m\u001b[1;33m(\u001b[0m\u001b[1;33m)\u001b[0m\u001b[1;33m\u001b[0m\u001b[1;33m\u001b[0m\u001b[0m\n\u001b[0m",
      "\u001b[1;31mAttributeError\u001b[0m: 'Turtle' object has no attribute 'done'"
     ]
    }
   ],
   "source": [
    "# Circle of Sqaures\n",
    "import turtle\n",
    "t = turtle.Turtle()\n",
    "t.speed(100)\n",
    "t.pencolor(\"red\")\n",
    "\n",
    "# draw a shape\n",
    "def sqaure(l,a):\n",
    "    for i in range(4):\n",
    "        t.forward(100)\n",
    "        t.right(90)\n",
    "\n",
    "for i in range(200):\n",
    "    sqaure(100,90)\n",
    "    t.right(5)\n",
    "t.done()"
   ]
  },
  {
   "cell_type": "code",
   "execution_count": null,
   "metadata": {},
   "outputs": [],
   "source": []
  }
 ],
 "metadata": {
  "kernelspec": {
   "display_name": "Python 3",
   "language": "python",
   "name": "python3"
  },
  "language_info": {
   "codemirror_mode": {
    "name": "ipython",
    "version": 3
   },
   "file_extension": ".py",
   "mimetype": "text/x-python",
   "name": "python",
   "nbconvert_exporter": "python",
   "pygments_lexer": "ipython3",
   "version": "3.8.5"
  }
 },
 "nbformat": 4,
 "nbformat_minor": 4
}
