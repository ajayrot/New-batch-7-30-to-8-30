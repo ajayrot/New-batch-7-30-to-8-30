{
 "cells": [
  {
   "cell_type": "code",
   "execution_count": 1,
   "metadata": {},
   "outputs": [
    {
     "name": "stdout",
     "output_type": "stream",
     "text": [
      "Enter a number :123\n",
      "Three Two One "
     ]
    }
   ],
   "source": [
    "# Input : 123\n",
    "# output : one two three\n",
    "n = int(input(\"Enter a number :\"))\n",
    "while n != 0:\n",
    "    r = n %10\n",
    "    if r == 0: \n",
    "        print(\"Zero\",end = \" \")\n",
    "    elif r == 1:\n",
    "        print(\"One\",end = \" \")\n",
    "    elif r == 2:\n",
    "        print(\"Two\",end = \" \")\n",
    "    elif r == 3:\n",
    "        print(\"Three\",end = \" \")\n",
    "    elif r == 4:\n",
    "        print(\"Four\",end = \" \")\n",
    "    elif r == 5:\n",
    "        print(\"Five\",end = \" \")\n",
    "    elif r == 6:\n",
    "        print(\"Six\",end = \" \")\n",
    "    elif r == 7:\n",
    "        print(\"Seven\",end = \" \")\n",
    "    elif r == 8:\n",
    "        print(\"Eight\",end = \" \")\n",
    "    elif r == 9:\n",
    "        print(\"Nine\",end = \" \")\n",
    "    n = n//10"
   ]
  },
  {
   "cell_type": "code",
   "execution_count": 2,
   "metadata": {},
   "outputs": [
    {
     "name": "stdout",
     "output_type": "stream",
     "text": [
      "10\n",
      "10 9 8 7 6 5 4 3 2 1 "
     ]
    }
   ],
   "source": [
    "#input : 10\n",
    "# output: 10 9 8 7 6 5 4 3 2 1\n",
    "n = int(input())\n",
    "i = 1\n",
    "while n >= i:\n",
    "    print(n,end = \" \")\n",
    "    n = n-1"
   ]
  },
  {
   "cell_type": "code",
   "execution_count": 3,
   "metadata": {},
   "outputs": [
    {
     "name": "stdout",
     "output_type": "stream",
     "text": [
      "35564\n",
      "total digits are : 5\n"
     ]
    }
   ],
   "source": [
    "# find total count of digits\n",
    "# input:45735\n",
    "# output: 5\n",
    "n = int(input())\n",
    "c = 0\n",
    "while n !=0:\n",
    "    n = n//10\n",
    "    c = c+1\n",
    "print(\"total digits are :\",c)"
   ]
  },
  {
   "cell_type": "code",
   "execution_count": 4,
   "metadata": {},
   "outputs": [
    {
     "name": "stdout",
     "output_type": "stream",
     "text": [
      "348451323\n",
      "1 8\n"
     ]
    }
   ],
   "source": [
    "# input :336874\n",
    "# output: 3,8\n",
    "i = int(input())\n",
    "largedigit,leastdigit = 0,9\n",
    "while i != 0:\n",
    "    r = i %10\n",
    "    if r > largedigit:\n",
    "        largedigit = r\n",
    "    if r < leastdigit :\n",
    "        leastdigit = r\n",
    "    i = i //10\n",
    "print(leastdigit,largedigit)\n",
    "    "
   ]
  },
  {
   "cell_type": "markdown",
   "metadata": {},
   "source": [
    "# break Statement:\n",
    "- we can stop the loop even if the while condition is true"
   ]
  },
  {
   "cell_type": "code",
   "execution_count": 2,
   "metadata": {},
   "outputs": [
    {
     "name": "stdout",
     "output_type": "stream",
     "text": [
      "12345"
     ]
    }
   ],
   "source": [
    "i = 1\n",
    "while i <10:\n",
    "    print(i,end = \"\")\n",
    "    if i ==5:\n",
    "        break\n",
    "    i = i+1"
   ]
  },
  {
   "cell_type": "markdown",
   "metadata": {},
   "source": [
    "# Continue Statement:\n",
    "- we can stop the current iteration and continue with the next,"
   ]
  },
  {
   "cell_type": "code",
   "execution_count": 4,
   "metadata": {},
   "outputs": [
    {
     "name": "stdout",
     "output_type": "stream",
     "text": [
      "1 2 4 5 6 "
     ]
    }
   ],
   "source": [
    "i = 0\n",
    "while i < 6:\n",
    "    i +=1\n",
    "    if i ==3:#the number 3 is missing \n",
    "        continue\n",
    "    print(i,end = \" \")"
   ]
  },
  {
   "cell_type": "code",
   "execution_count": null,
   "metadata": {},
   "outputs": [],
   "source": []
  }
 ],
 "metadata": {
  "kernelspec": {
   "display_name": "Python 3",
   "language": "python",
   "name": "python3"
  },
  "language_info": {
   "codemirror_mode": {
    "name": "ipython",
    "version": 3
   },
   "file_extension": ".py",
   "mimetype": "text/x-python",
   "name": "python",
   "nbconvert_exporter": "python",
   "pygments_lexer": "ipython3",
   "version": "3.8.5"
  }
 },
 "nbformat": 4,
 "nbformat_minor": 4
}
