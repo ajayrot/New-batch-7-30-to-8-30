{
 "cells": [
  {
   "cell_type": "markdown",
   "metadata": {},
   "source": [
    "# Dictionary\n",
    "\n",
    "## Contact Application:\n",
    "- Add Contacts\n",
    "- search Contacts\n",
    "- update contacts\n",
    "- delete Contacts\n",
    "- Merge Contacts"
   ]
  },
  {
   "cell_type": "markdown",
   "metadata": {},
   "source": [
    "# Functional Programming\n",
    "- Gruop of statements which can perform a specific task.\n",
    "- can be used for code reuseability\n",
    "- It makes the program can be divided into multiple sub blocks\n",
    "- when the program is divided into multiple blocks reability is easy\n",
    "- In Functional Programming,Function can be defined with **def** keyword"
   ]
  },
  {
   "cell_type": "code",
   "execution_count": null,
   "metadata": {},
   "outputs": [],
   "source": [
    "#syntax:\n",
    "def <functionname> (<paramenters>):\n",
    "    statements\n",
    "    return"
   ]
  },
  {
   "cell_type": "code",
   "execution_count": 4,
   "metadata": {},
   "outputs": [
    {
     "name": "stdout",
     "output_type": "stream",
     "text": [
      "9\n",
      "-1\n",
      "20\n",
      "0.8\n"
     ]
    }
   ],
   "source": [
    "# add 2 numbers using function\n",
    "def add(x,y):\n",
    "    print(x+y)\n",
    "    print(x-y)\n",
    "    print(x*y)\n",
    "    print(x/y)\n",
    "add(4,5)\n",
    "    "
   ]
  },
  {
   "cell_type": "code",
   "execution_count": 5,
   "metadata": {},
   "outputs": [
    {
     "name": "stdout",
     "output_type": "stream",
     "text": [
      "14\n",
      "-2\n",
      "48\n",
      "0.75\n"
     ]
    }
   ],
   "source": [
    "add(6,8)"
   ]
  },
  {
   "cell_type": "code",
   "execution_count": 6,
   "metadata": {},
   "outputs": [
    {
     "data": {
      "text/plain": [
       "125"
      ]
     },
     "execution_count": 6,
     "metadata": {},
     "output_type": "execute_result"
    }
   ],
   "source": [
    "# cube\n",
    "def cube(a):\n",
    "    return a*a*a\n",
    "cube(5)"
   ]
  },
  {
   "cell_type": "code",
   "execution_count": 7,
   "metadata": {},
   "outputs": [
    {
     "data": {
      "text/plain": [
       "12"
      ]
     },
     "execution_count": 7,
     "metadata": {},
     "output_type": "execute_result"
    }
   ],
   "source": [
    "# input : 123456\n",
    "# output : (2+4+6) - 12\n",
    "def even(x):\n",
    "    sum = 0\n",
    "    while x != 0:\n",
    "        a = x%10\n",
    "        if a % 2 == 0:\n",
    "            sum = sum +a\n",
    "        x = x//10\n",
    "    return sum \n",
    "even(123456)"
   ]
  },
  {
   "cell_type": "code",
   "execution_count": 8,
   "metadata": {},
   "outputs": [
    {
     "data": {
      "text/plain": [
       "24"
      ]
     },
     "execution_count": 8,
     "metadata": {},
     "output_type": "execute_result"
    }
   ],
   "source": [
    "even(8763467)"
   ]
  },
  {
   "cell_type": "code",
   "execution_count": 9,
   "metadata": {},
   "outputs": [
    {
     "data": {
      "text/plain": [
       "9"
      ]
     },
     "execution_count": 9,
     "metadata": {},
     "output_type": "execute_result"
    }
   ],
   "source": [
    "#find large number \n",
    "# input: 53985\n",
    "# output: 9\n",
    "def large(n):\n",
    "    large = 0\n",
    "    while n != 0:\n",
    "        a = n%10\n",
    "        if large < a:\n",
    "            large = a\n",
    "        n = n//10\n",
    "    return large\n",
    "large(53985)"
   ]
  },
  {
   "cell_type": "code",
   "execution_count": 10,
   "metadata": {},
   "outputs": [
    {
     "data": {
      "text/plain": [
       "321"
      ]
     },
     "execution_count": 10,
     "metadata": {},
     "output_type": "execute_result"
    }
   ],
   "source": [
    "#input: 123\n",
    "# otput: 321\n",
    "def reverse(n):\n",
    "    rev = 0\n",
    "    while n != 0:\n",
    "        a = n%10\n",
    "        rev = rev *10 +a\n",
    "        n = n//10\n",
    "    return rev\n",
    "reverse(123)"
   ]
  },
  {
   "cell_type": "code",
   "execution_count": 13,
   "metadata": {},
   "outputs": [
    {
     "name": "stdout",
     "output_type": "stream",
     "text": [
      "No\n",
      "Yes\n"
     ]
    }
   ],
   "source": [
    "# palindrome or not\n",
    "# 123 - 321 - No\n",
    "# 121 - 121 - Yes\n",
    "def palindrome(n):\n",
    "    rev = 0\n",
    "    buffer = n\n",
    "    while n != 0:\n",
    "        a = n%10\n",
    "        rev = rev *10 +a\n",
    "        n = n//10\n",
    "    if buffer == rev:\n",
    "        return \"Yes\"\n",
    "    else:\n",
    "        return \"No\"\n",
    "print(palindrome(123))\n",
    "print(palindrome(121))"
   ]
  },
  {
   "cell_type": "code",
   "execution_count": null,
   "metadata": {},
   "outputs": [],
   "source": []
  }
 ],
 "metadata": {
  "kernelspec": {
   "display_name": "Python 3",
   "language": "python",
   "name": "python3"
  },
  "language_info": {
   "codemirror_mode": {
    "name": "ipython",
    "version": 3
   },
   "file_extension": ".py",
   "mimetype": "text/x-python",
   "name": "python",
   "nbconvert_exporter": "python",
   "pygments_lexer": "ipython3",
   "version": "3.8.5"
  }
 },
 "nbformat": 4,
 "nbformat_minor": 4
}
