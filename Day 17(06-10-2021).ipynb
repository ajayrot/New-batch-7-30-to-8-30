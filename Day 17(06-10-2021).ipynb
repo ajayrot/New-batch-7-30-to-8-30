{
 "cells": [
  {
   "cell_type": "markdown",
   "metadata": {},
   "source": [
    "# ASCIIL System:\n"
   ]
  },
  {
   "cell_type": "code",
   "execution_count": 1,
   "metadata": {},
   "outputs": [
    {
     "name": "stdout",
     "output_type": "stream",
     "text": [
      "a b c d e f g h i j k l m n o p q r s t u v w x y z "
     ]
    }
   ],
   "source": [
    "for i in range(97,123):\n",
    "    print(chr(i),end = \" \")"
   ]
  },
  {
   "cell_type": "code",
   "execution_count": 2,
   "metadata": {},
   "outputs": [
    {
     "name": "stdout",
     "output_type": "stream",
     "text": [
      "0 1 2 3 4 5 6 7 8 9 "
     ]
    }
   ],
   "source": [
    "for i in range(48,58):\n",
    "    print(chr(i),end = \" \")"
   ]
  },
  {
   "cell_type": "code",
   "execution_count": 3,
   "metadata": {},
   "outputs": [
    {
     "data": {
      "text/plain": [
       "False"
      ]
     },
     "execution_count": 3,
     "metadata": {},
     "output_type": "execute_result"
    }
   ],
   "source": [
    "# Find given string is palindrome or not\n",
    "def palindrome(s):\n",
    "    if s == s[::-1]:\n",
    "        return True\n",
    "    return False\n",
    "palindrome(\"Python\")"
   ]
  },
  {
   "cell_type": "code",
   "execution_count": 4,
   "metadata": {},
   "outputs": [
    {
     "data": {
      "text/plain": [
       "True"
      ]
     },
     "execution_count": 4,
     "metadata": {},
     "output_type": "execute_result"
    }
   ],
   "source": [
    "palindrome(\"aha\")"
   ]
  },
  {
   "cell_type": "code",
   "execution_count": 5,
   "metadata": {},
   "outputs": [
    {
     "name": "stdout",
     "output_type": "stream",
     "text": [
      "P P "
     ]
    }
   ],
   "source": [
    "# Print the upper case characters from given string\n",
    "# Input:\"Python Programming\"\n",
    "def upper(x):\n",
    "    for i in range(len(x)):\n",
    "        if ord(x[i]) >=65 and ord(x[i]) <=90:\n",
    "            print(x[i],end = \" \")\n",
    "upper(\"Python Programming\")"
   ]
  },
  {
   "cell_type": "code",
   "execution_count": 6,
   "metadata": {},
   "outputs": [
    {
     "name": "stdout",
     "output_type": "stream",
     "text": [
      "1 2 3 4 "
     ]
    }
   ],
   "source": [
    "# Extract Digits from given String\n",
    "def digits(str):\n",
    "    for i in range(len(str)):\n",
    "        if ord(str[i]) >=48 and ord(str[i]) <=57:\n",
    "            print(str[i],end = \" \")\n",
    "digits(\"P1Y2T3H4\")"
   ]
  },
  {
   "cell_type": "code",
   "execution_count": 7,
   "metadata": {},
   "outputs": [
    {
     "name": "stdout",
     "output_type": "stream",
     "text": [
      "a\n"
     ]
    }
   ],
   "source": [
    "s1 = \"A\"\n",
    "s1 = chr(ord(s1)+32)\n",
    "print(s1)\n"
   ]
  },
  {
   "cell_type": "code",
   "execution_count": 8,
   "metadata": {},
   "outputs": [
    {
     "data": {
      "text/plain": [
       "' pYtHoN'"
      ]
     },
     "execution_count": 8,
     "metadata": {},
     "output_type": "execute_result"
    }
   ],
   "source": [
    "# Input: PyThOn\n",
    "# Output:pYtHoN\n",
    "def case(s):\n",
    "    s1 = \" \"\n",
    "    for i in range(len(s)):\n",
    "        if ord(s[i]) >=65 and ord(s[i]) <= 90:\n",
    "            s1 += chr(ord(s[i])+32)\n",
    "        elif ord(s[i]) >=97 and ord(s[i]) <=122:\n",
    "            s1 += chr(ord(s[i])-32)\n",
    "    return s1\n",
    "case(\"PyThOn\")\n",
    "              "
   ]
  },
  {
   "cell_type": "code",
   "execution_count": 11,
   "metadata": {},
   "outputs": [
    {
     "data": {
      "text/plain": [
       "10"
      ]
     },
     "execution_count": 11,
     "metadata": {},
     "output_type": "execute_result"
    }
   ],
   "source": [
    "# Input:P1Y2T3H4\n",
    "# Output:(1+2+3+4)= 10\n",
    "def digits(s):\n",
    "    sum = 0\n",
    "    for i in range(len(s)):\n",
    "        if ord(s[i]) >=48 and ord(s[i]) <=57:\n",
    "                sum += (ord(s[i])-48) # Converts ascii number to decimal number\n",
    "    return sum\n",
    "digits(\"P1Y2T3H4\")\n"
   ]
  },
  {
   "cell_type": "code",
   "execution_count": 12,
   "metadata": {},
   "outputs": [
    {
     "data": {
      "text/plain": [
       "'EASY'"
      ]
     },
     "execution_count": 12,
     "metadata": {},
     "output_type": "execute_result"
    }
   ],
   "source": [
    "# Print 2nd word in upper case\n",
    "# Input: Python Easy Programming\n",
    "# Output: EASY\n",
    "def word(s):\n",
    "    li = s.split()\n",
    "    x = li[1].upper()\n",
    "    return x\n",
    "word(\"Python Easy Programming\")"
   ]
  },
  {
   "cell_type": "code",
   "execution_count": null,
   "metadata": {},
   "outputs": [],
   "source": []
  }
 ],
 "metadata": {
  "kernelspec": {
   "display_name": "Python 3",
   "language": "python",
   "name": "python3"
  },
  "language_info": {
   "codemirror_mode": {
    "name": "ipython",
    "version": 3
   },
   "file_extension": ".py",
   "mimetype": "text/x-python",
   "name": "python",
   "nbconvert_exporter": "python",
   "pygments_lexer": "ipython3",
   "version": "3.8.5"
  }
 },
 "nbformat": 4,
 "nbformat_minor": 4
}
