{
 "cells": [
  {
   "cell_type": "code",
   "execution_count": 2,
   "metadata": {},
   "outputs": [
    {
     "name": "stdout",
     "output_type": "stream",
     "text": [
      "Enter Marks :87\n",
      "A\n"
     ]
    }
   ],
   "source": [
    "#Find Grading\n",
    "# Below 25 - F\n",
    "# 25 to 45 - E\n",
    "# 45 to 50 - D\n",
    "# 50 to 60 - C\n",
    "# 60 to 80 - B\n",
    "#Above 80 - A\n",
    "# marks - input\n",
    "marks = int(input(\"Enter Marks :\"))\n",
    "if marks < 25:\n",
    "    print(\"F\")\n",
    "elif marks >= 25 and marks <45:\n",
    "    print (\"E\")\n",
    "elif marks >= 45 and marks < 50:\n",
    "    print(\"D\") \n",
    "elif marks >=50 and marks < 60:\n",
    "    print(\"C\")\n",
    "elif marks >=60 and marks < 80:\n",
    "    print(\"B\") \n",
    "else:\n",
    "    print(\"A\") "
   ]
  },
  {
   "cell_type": "markdown",
   "metadata": {},
   "source": [
    "# Looping Statements:\n",
    "- While Loop:\n",
    "  - It allows a programmer to repeat a single statement or a gruop of statements for the True condition.\n",
    "\n",
    "- for loop:\n",
    "  - It allows a programmer to execute a sequence of statements several times. "
   ]
  },
  {
   "cell_type": "markdown",
   "metadata": {},
   "source": [
    "# While loop:\n"
   ]
  },
  {
   "cell_type": "code",
   "execution_count": null,
   "metadata": {},
   "outputs": [],
   "source": [
    "# syntax:\n",
    "while Boolean_Condition:\n",
    "    statements\n",
    "    increment/decrement"
   ]
  },
  {
   "cell_type": "code",
   "execution_count": 3,
   "metadata": {},
   "outputs": [
    {
     "name": "stdout",
     "output_type": "stream",
     "text": [
      "Ajay\n",
      "Ajay\n",
      "Ajay\n",
      "Ajay\n",
      "Ajay\n"
     ]
    }
   ],
   "source": [
    "# print \"Ajay\" for 5 times\n",
    "print(\"Ajay\")\n",
    "print(\"Ajay\")\n",
    "print(\"Ajay\")\n",
    "print(\"Ajay\")\n",
    "print(\"Ajay\")"
   ]
  },
  {
   "cell_type": "code",
   "execution_count": 5,
   "metadata": {},
   "outputs": [
    {
     "name": "stdout",
     "output_type": "stream",
     "text": [
      "Ajay\n",
      "Ajay\n",
      "Ajay\n",
      "Ajay\n",
      "Ajay\n"
     ]
    }
   ],
   "source": [
    "i = 0\n",
    "while i < 5:\n",
    "    print(\"Ajay\")\n",
    "    i = i+1"
   ]
  },
  {
   "cell_type": "code",
   "execution_count": 9,
   "metadata": {},
   "outputs": [
    {
     "name": "stdout",
     "output_type": "stream",
     "text": [
      "1 2 3 4 5 6 7 8 9 10 "
     ]
    }
   ],
   "source": [
    "# print 1 to 5 number\n",
    "# output : 1 2 3 4 5\n",
    "i = 1\n",
    "while i <= 10:\n",
    "    print(i,end = \" \")\n",
    "    i = i+1 # i += 1"
   ]
  },
  {
   "cell_type": "code",
   "execution_count": 10,
   "metadata": {},
   "outputs": [
    {
     "name": "stdout",
     "output_type": "stream",
     "text": [
      "2 4 6 8 10 "
     ]
    }
   ],
   "source": [
    "# Print even numbers from 1 to 10\n",
    "i = 1\n",
    "while i <= 10:\n",
    "    if i %2 ==0:\n",
    "        print(i,end = \" \")\n",
    "    i += 1"
   ]
  },
  {
   "cell_type": "code",
   "execution_count": 11,
   "metadata": {},
   "outputs": [
    {
     "name": "stdout",
     "output_type": "stream",
     "text": [
      "Enter a number :12\n",
      "1 2 3 4 6 12 "
     ]
    }
   ],
   "source": [
    "# print the output asfactor of given number\n",
    "# 6 - 1 2 3 6\n",
    "# 12 - 1 2 3 4 6 12\n",
    "n = int(input(\"Enter a number :\"))\n",
    "i = 1\n",
    "while i <= n:\n",
    "    if n % i == 0:\n",
    "        print(i,end = \" \")\n",
    "    i +=1"
   ]
  },
  {
   "cell_type": "code",
   "execution_count": 12,
   "metadata": {},
   "outputs": [
    {
     "name": "stdout",
     "output_type": "stream",
     "text": [
      "123\n",
      "3 2 1 "
     ]
    }
   ],
   "source": [
    "#input : 123\n",
    "#output:321\n",
    "n = int(input())\n",
    "while n != 0:\n",
    "    print(n%10 ,end = ' ')\n",
    "    n = n//10"
   ]
  },
  {
   "cell_type": "code",
   "execution_count": null,
   "metadata": {},
   "outputs": [],
   "source": []
  }
 ],
 "metadata": {
  "kernelspec": {
   "display_name": "Python 3",
   "language": "python",
   "name": "python3"
  },
  "language_info": {
   "codemirror_mode": {
    "name": "ipython",
    "version": 3
   },
   "file_extension": ".py",
   "mimetype": "text/x-python",
   "name": "python",
   "nbconvert_exporter": "python",
   "pygments_lexer": "ipython3",
   "version": "3.8.5"
  }
 },
 "nbformat": 4,
 "nbformat_minor": 4
}
