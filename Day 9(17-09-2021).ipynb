{
 "cells": [
  {
   "cell_type": "markdown",
   "metadata": {},
   "source": [
    "# Data Structures:\n",
    "- List \n",
    "- Tuple \n",
    "- Dictionaries\n",
    "- Set\n",
    "\n",
    "- To Store the data in particular object\n",
    "- It will makes several operations will become simple.\n",
    "  - sorting\n",
    "  - searching\n",
    "  - storing"
   ]
  },
  {
   "cell_type": "markdown",
   "metadata": {},
   "source": [
    "# List in Python:\n",
    "- It is common structurein python for storage\n",
    "- List can be changed \n",
    "- List can be enclosed with sqaure brackets and items are separated with comma (,)."
   ]
  },
  {
   "cell_type": "code",
   "execution_count": 1,
   "metadata": {},
   "outputs": [
    {
     "name": "stdout",
     "output_type": "stream",
     "text": [
      "[1, 2, 3, 4, 5]\n"
     ]
    }
   ],
   "source": [
    "li = [1,2,3,4,5]\n",
    "print(li)# access entire list"
   ]
  },
  {
   "cell_type": "code",
   "execution_count": 2,
   "metadata": {},
   "outputs": [
    {
     "name": "stdout",
     "output_type": "stream",
     "text": [
      "[123, 'Python', 'AI', 'ML', 12.2]\n"
     ]
    }
   ],
   "source": [
    "l1 = [123,'Python','AI','ML',12.2]\n",
    "print(l1)"
   ]
  },
  {
   "cell_type": "code",
   "execution_count": 9,
   "metadata": {},
   "outputs": [
    {
     "name": "stdout",
     "output_type": "stream",
     "text": [
      "[1, 2, 3, 4, 5]\n",
      "1\n",
      "2\n",
      "3\n",
      "3\n",
      "[3, 4]\n",
      "[2, 3, 4, 5]\n"
     ]
    }
   ],
   "source": [
    "l2 = [1,2,3,4,5] # list have 2 types of indexes i.e Positive ,Negative\n",
    "print(l2)# access entire list\n",
    "print(l2[0])# acces first item value\n",
    "print(l2[1])\n",
    "# want to access value 3\n",
    "print(l2[2])# +ve index\n",
    "print(l2[-3]) #-ve index\n",
    "print(l2[2:4])\n",
    "print(l2[1:5])"
   ]
  },
  {
   "cell_type": "code",
   "execution_count": 11,
   "metadata": {},
   "outputs": [
    {
     "name": "stdout",
     "output_type": "stream",
     "text": [
      "[1, 2, 3, 4, 5, 6]\n",
      "[1, 2, 10, 4, 5, 6]\n"
     ]
    }
   ],
   "source": [
    "# Update single list item\n",
    "l3 = [1,2,3,4,5,6]\n",
    "print(l3)\n",
    "l3[2] =10\n",
    "print(l3)"
   ]
  },
  {
   "cell_type": "code",
   "execution_count": 13,
   "metadata": {},
   "outputs": [
    {
     "name": "stdout",
     "output_type": "stream",
     "text": [
      "[1, 2, 3, 4, 5, 6]\n",
      "[1, 7, 8, 9, 5, 6]\n"
     ]
    }
   ],
   "source": [
    "#update range list items\n",
    "l3 = [1,2,3,4,5,6]\n",
    "print(l3)\n",
    "l3[1:4] = [7,8,9]\n",
    "print(l3)"
   ]
  },
  {
   "cell_type": "markdown",
   "metadata": {},
   "source": [
    "# insert method:\n",
    "- it inserts an item at specified index."
   ]
  },
  {
   "cell_type": "code",
   "execution_count": 15,
   "metadata": {},
   "outputs": [
    {
     "name": "stdout",
     "output_type": "stream",
     "text": [
      "[1, 2, 3, 4, 5, 6]\n",
      "[1, 2, 'Ajay', 3, 4, 5, 6]\n"
     ]
    }
   ],
   "source": [
    "l3 = [1,2,3,4,5,6]\n",
    "print(l3)\n",
    "l3.insert(2,\"Ajay\")\n",
    "print(l3)"
   ]
  },
  {
   "cell_type": "markdown",
   "metadata": {},
   "source": [
    "# Append Method:\n",
    "- add an item to th end of the list"
   ]
  },
  {
   "cell_type": "code",
   "execution_count": 19,
   "metadata": {},
   "outputs": [
    {
     "name": "stdout",
     "output_type": "stream",
     "text": [
      "[1, 2, 3, 4, 5]\n",
      "[1, 2, 3, 4, 5, 7]\n",
      "[1, 2, 3, 4, 5, 7, 10]\n"
     ]
    }
   ],
   "source": [
    "l4 = [1,2,3,4,5]\n",
    "print(l4)\n",
    "l4.append(7)\n",
    "print(l4)\n",
    "l4.append(10)\n",
    "print(l4)"
   ]
  },
  {
   "cell_type": "markdown",
   "metadata": {},
   "source": [
    "# Extend list:\n",
    "- to append elements from anothe list to the current list"
   ]
  },
  {
   "cell_type": "code",
   "execution_count": 20,
   "metadata": {},
   "outputs": [
    {
     "name": "stdout",
     "output_type": "stream",
     "text": [
      "[1, 2, 3, 4, 5, 6, 1, 2, 3, 4, 5]\n"
     ]
    }
   ],
   "source": [
    "l3 = [1,2,3,4,5,6]\n",
    "l4 = [1,2,3,4,5]\n",
    "l3.extend(l4)\n",
    "print(l3)"
   ]
  },
  {
   "cell_type": "code",
   "execution_count": null,
   "metadata": {},
   "outputs": [],
   "source": []
  }
 ],
 "metadata": {
  "kernelspec": {
   "display_name": "Python 3",
   "language": "python",
   "name": "python3"
  },
  "language_info": {
   "codemirror_mode": {
    "name": "ipython",
    "version": 3
   },
   "file_extension": ".py",
   "mimetype": "text/x-python",
   "name": "python",
   "nbconvert_exporter": "python",
   "pygments_lexer": "ipython3",
   "version": "3.8.5"
  }
 },
 "nbformat": 4,
 "nbformat_minor": 4
}
