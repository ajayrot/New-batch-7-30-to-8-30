{
 "cells": [
  {
   "cell_type": "markdown",
   "metadata": {},
   "source": [
    " # String Functions:\n",
    " - upper() -->Converts the given string into upper case\n",
    " - lower() -->Converts the given string into lower case "
   ]
  },
  {
   "cell_type": "code",
   "execution_count": 2,
   "metadata": {},
   "outputs": [
    {
     "name": "stdout",
     "output_type": "stream",
     "text": [
      "PYTHON\n",
      "python\n"
     ]
    }
   ],
   "source": [
    "s = \"Python\"\n",
    "print(s.upper())\n",
    "print(s.lower())"
   ]
  },
  {
   "cell_type": "markdown",
   "metadata": {},
   "source": [
    "# String Methods:\n",
    "- join()\n",
    "- split()\n",
    "- replace()"
   ]
  },
  {
   "cell_type": "code",
   "execution_count": 5,
   "metadata": {},
   "outputs": [
    {
     "name": "stdout",
     "output_type": "stream",
     "text": [
      "P y t h o n\n",
      "P,y,t,h,o,n\n"
     ]
    }
   ],
   "source": [
    "s = \"Python\"\n",
    "print(\" \".join(s))\n",
    "print(\",\".join(s))"
   ]
  },
  {
   "cell_type": "code",
   "execution_count": 8,
   "metadata": {},
   "outputs": [
    {
     "name": "stdout",
     "output_type": "stream",
     "text": [
      "P,y,t,h,o,n, ,I,s, ,s,i,m,p,l,e, ,P,r,o,g,r,a,m,m,i,n,g, ,L,a,n,g,u,a,g,e, \n"
     ]
    }
   ],
   "source": [
    "s2 = \"Python Is simple Programming Language \"\n",
    "print(\",\".join(s2))"
   ]
  },
  {
   "cell_type": "code",
   "execution_count": 9,
   "metadata": {},
   "outputs": [
    {
     "name": "stdout",
     "output_type": "stream",
     "text": [
      "['Python', 'Is', 'simple', 'Programming', 'Language']\n"
     ]
    }
   ],
   "source": [
    "# Split Method:\n",
    "s2 = \"Python Is simple Programming Language \"\n",
    "print(s2.split())"
   ]
  },
  {
   "cell_type": "code",
   "execution_count": 11,
   "metadata": {},
   "outputs": [
    {
     "name": "stdout",
     "output_type": "stream",
     "text": [
      "['Python Is simple Progr', 'mming L', 'ngu', 'ge ']\n",
      "['Python Is simple Pro', 'rammin', ' Lan', 'ua', 'e ']\n"
     ]
    }
   ],
   "source": [
    "print(s2.split(\"a\"))\n",
    "print(s2.split(\"g\"))"
   ]
  },
  {
   "cell_type": "code",
   "execution_count": 12,
   "metadata": {},
   "outputs": [
    {
     "name": "stdout",
     "output_type": "stream",
     "text": [
      "Python Is Easy Programming Language \n"
     ]
    }
   ],
   "source": [
    "# Replace Method:\n",
    "s2 = \"Python Is simple Programming Language \"\n",
    "print(s2.replace(\"simple\",\"Easy\"))"
   ]
  },
  {
   "cell_type": "markdown",
   "metadata": {},
   "source": [
    "# Boolean Functions:\n",
    "- islower()\n",
    "- isupper()\n",
    "- istitle()\n",
    "- isalpha()\n",
    "- isnumeric()\n",
    "- isspace()"
   ]
  },
  {
   "cell_type": "code",
   "execution_count": 15,
   "metadata": {},
   "outputs": [
    {
     "name": "stdout",
     "output_type": "stream",
     "text": [
      "True\n",
      "False\n"
     ]
    }
   ],
   "source": [
    "s = \"ajay\"\n",
    "print(s.islower())\n",
    "print(s.isupper())"
   ]
  },
  {
   "cell_type": "code",
   "execution_count": 17,
   "metadata": {},
   "outputs": [
    {
     "name": "stdout",
     "output_type": "stream",
     "text": [
      "True\n",
      "False\n"
     ]
    }
   ],
   "source": [
    "s1 = \"Python\"\n",
    "print(s1.istitle())\n",
    "print(s.istitle())"
   ]
  },
  {
   "cell_type": "code",
   "execution_count": 19,
   "metadata": {},
   "outputs": [
    {
     "name": "stdout",
     "output_type": "stream",
     "text": [
      "False\n"
     ]
    }
   ],
   "source": [
    "s1 = \"Python1\"\n",
    "print(s1.isalpha())"
   ]
  },
  {
   "cell_type": "code",
   "execution_count": 21,
   "metadata": {},
   "outputs": [
    {
     "name": "stdout",
     "output_type": "stream",
     "text": [
      "True\n"
     ]
    }
   ],
   "source": [
    "s2 = \"123\"\n",
    "print(s2.isnumeric())"
   ]
  },
  {
   "cell_type": "code",
   "execution_count": 23,
   "metadata": {},
   "outputs": [
    {
     "name": "stdout",
     "output_type": "stream",
     "text": [
      "True\n",
      "False\n"
     ]
    }
   ],
   "source": [
    "s3 = \" \"\n",
    "s4 = \" A  \"\n",
    "print(s3.isspace())\n",
    "print(s4.isspace())"
   ]
  },
  {
   "cell_type": "markdown",
   "metadata": {},
   "source": [
    "# File Handling:\n",
    "- File handling is an important part of web application.\n",
    "- Function\n",
    "  - Creating\n",
    "  - Reading\n",
    "  - Updating\n",
    "  - Deleting\n",
    "- key function for working with files in python is open() function.\n",
    "- **Open()** Function takes 2 parameter filename and mode\n",
    "- we have 3 modes:\n",
    "  - **r** --> Read a file\n",
    "  - **a**  -->to Append something to file\n",
    "  - **w**  -->write something to file"
   ]
  },
  {
   "cell_type": "code",
   "execution_count": 24,
   "metadata": {
    "scrolled": false
   },
   "outputs": [
    {
     "name": "stdout",
     "output_type": "stream",
     "text": [
      "Hello, Welcome to File Handling\n"
     ]
    }
   ],
   "source": [
    "f = open(\"text.txt\",\"r\")\n",
    "print(f.read())"
   ]
  },
  {
   "cell_type": "code",
   "execution_count": 25,
   "metadata": {
    "scrolled": true
   },
   "outputs": [
    {
     "name": "stdout",
     "output_type": "stream",
     "text": [
      "Hello\n"
     ]
    }
   ],
   "source": [
    "# want to fist 3 charcter\n",
    "f = open(\"text.txt\",\"r\")\n",
    "print(f.read(5))\n"
   ]
  },
  {
   "cell_type": "code",
   "execution_count": 31,
   "metadata": {},
   "outputs": [
    {
     "name": "stdout",
     "output_type": "stream",
     "text": [
      "Hello, Welcome to File Handling\n",
      "\n",
      "This is 1 line\n",
      "\n",
      "This is 2 line\n",
      "\n",
      "This is 3 line\n",
      "\n",
      "This is 4 line\n",
      "\n",
      "This is 5 line\n",
      "\n",
      "This is 6 line\n",
      "\n"
     ]
    }
   ],
   "source": [
    "#Readline - can return one line\n",
    "f = open(\"text.txt\",\"r\")\n",
    "print(f.readline())\n",
    "print(f.readline())\n",
    "print(f.readline())\n",
    "print(f.readline())\n",
    "print(f.readline())\n",
    "print(f.readline())\n",
    "print(f.readline())"
   ]
  },
  {
   "cell_type": "code",
   "execution_count": null,
   "metadata": {},
   "outputs": [],
   "source": []
  }
 ],
 "metadata": {
  "kernelspec": {
   "display_name": "Python 3",
   "language": "python",
   "name": "python3"
  },
  "language_info": {
   "codemirror_mode": {
    "name": "ipython",
    "version": 3
   },
   "file_extension": ".py",
   "mimetype": "text/x-python",
   "name": "python",
   "nbconvert_exporter": "python",
   "pygments_lexer": "ipython3",
   "version": "3.8.5"
  }
 },
 "nbformat": 4,
 "nbformat_minor": 4
}
