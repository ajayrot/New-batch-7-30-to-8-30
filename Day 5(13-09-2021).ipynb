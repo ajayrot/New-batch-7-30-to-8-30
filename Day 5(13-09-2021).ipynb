{
 "cells": [
  {
   "cell_type": "markdown",
   "metadata": {},
   "source": [
    "# Membership Operator:\n",
    "- used to test given sequence is presented in object\n",
    "- Operator:\n",
    "  - **in**\n",
    "  - **not in**"
   ]
  },
  {
   "cell_type": "code",
   "execution_count": 5,
   "metadata": {},
   "outputs": [
    {
     "name": "stdout",
     "output_type": "stream",
     "text": [
      "True\n",
      "True\n",
      "False\n",
      "True\n",
      "False\n"
     ]
    }
   ],
   "source": [
    "a = 'Python'\n",
    "print('y' in a)\n",
    "print('on' in a)\n",
    "print('no' in a)\n",
    "print('ab' not in a)\n",
    "print('th' not in a)"
   ]
  },
  {
   "cell_type": "markdown",
   "metadata": {},
   "source": [
    "# Control Flow statements:\n",
    "- Conditional Statements\n",
    "  - if- else statement\n",
    "- Looping statements\n",
    "  - for loop statement\n",
    "  - while loop statement"
   ]
  },
  {
   "cell_type": "markdown",
   "metadata": {},
   "source": [
    "# if - else Statement:\n"
   ]
  },
  {
   "cell_type": "code",
   "execution_count": null,
   "metadata": {},
   "outputs": [],
   "source": [
    "# syntax:\n",
    "if Boolean_condition:\n",
    "    statement\n",
    "else:#elif\n",
    "    statement"
   ]
  },
  {
   "cell_type": "code",
   "execution_count": 9,
   "metadata": {},
   "outputs": [
    {
     "name": "stdout",
     "output_type": "stream",
     "text": [
      "Enter a number :14\n",
      "14 is Even Number\n"
     ]
    }
   ],
   "source": [
    "# check given number is even number or odd number\n",
    "a = int(input(\"Enter a number :\"))\n",
    "if a%2 ==0:\n",
    "    print(a,\"is Even Number\")#indentation \n",
    "else:\n",
    "    print(a,\"is Odd Number\")"
   ]
  },
  {
   "cell_type": "code",
   "execution_count": 12,
   "metadata": {},
   "outputs": [
    {
     "name": "stdout",
     "output_type": "stream",
     "text": [
      "Enter a number :27\n",
      "No\n"
     ]
    }
   ],
   "source": [
    "# check given number is multiples of both 3 and 5\n",
    "a = int(input(\"Enter a number :\"))\n",
    "if a%3 ==0 and a%5 ==0:\n",
    "    print(\"Yes\")\n",
    "else:\n",
    "    print(\"No\")"
   ]
  },
  {
   "cell_type": "code",
   "execution_count": 15,
   "metadata": {},
   "outputs": [
    {
     "name": "stdout",
     "output_type": "stream",
     "text": [
      "5\n",
      "positive\n"
     ]
    }
   ],
   "source": [
    "#check given is positive number ,negative or zero\n",
    "# positive n >0\n",
    "# negative n<0\n",
    "# zero n = 0\n",
    "n = int(input())\n",
    "if n >0:\n",
    "    print(\"positive\")\n",
    "elif n<0:\n",
    "    print(\"Negative\")\n",
    "else:\n",
    "    print(\"Zero\")"
   ]
  },
  {
   "cell_type": "code",
   "execution_count": 16,
   "metadata": {},
   "outputs": [
    {
     "name": "stdout",
     "output_type": "stream",
     "text": [
      "Enter a number a:4\n",
      "Enter a number b:9\n",
      "Enter a number c:1\n",
      "9 is large number\n"
     ]
    }
   ],
   "source": [
    "# find large from given numbers\n",
    "# a,b,c\n",
    "a = int(input(\"Enter a number a:\"))\n",
    "b = int(input(\"Enter a number b:\"))\n",
    "c = int(input(\"Enter a number c:\"))\n",
    "if a>b and a>c:\n",
    "    print(a,\"is large number\")\n",
    "elif b>a and b>c:\n",
    "    print(b,\"is large number\")\n",
    "else:\n",
    "    print(c,\"is large number\")"
   ]
  },
  {
   "cell_type": "code",
   "execution_count": null,
   "metadata": {},
   "outputs": [],
   "source": [
    "#Find Grading\n",
    "# Below 25 - F\n",
    "# 25 to 45 - E\n",
    "# 45 to 50 - D\n",
    "# 50 to 60 - C\n",
    "# 60 to 80 - B\n",
    "#Above 80 - A\n",
    "# marks - input"
   ]
  }
 ],
 "metadata": {
  "kernelspec": {
   "display_name": "Python 3",
   "language": "python",
   "name": "python3"
  },
  "language_info": {
   "codemirror_mode": {
    "name": "ipython",
    "version": 3
   },
   "file_extension": ".py",
   "mimetype": "text/x-python",
   "name": "python",
   "nbconvert_exporter": "python",
   "pygments_lexer": "ipython3",
   "version": "3.8.5"
  }
 },
 "nbformat": 4,
 "nbformat_minor": 4
}
