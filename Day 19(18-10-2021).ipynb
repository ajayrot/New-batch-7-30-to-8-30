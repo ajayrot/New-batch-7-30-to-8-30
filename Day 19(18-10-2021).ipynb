{
 "cells": [
  {
   "cell_type": "markdown",
   "metadata": {},
   "source": [
    "# Object Oriented Programming in Python\n",
    "- Python Supports Different Programming Apparoch\n",
    "- One of the popular apparoch is to solve programs by creating\n",
    "- it is object oriented programming\n",
    "- object has 2 charactertics\n",
    "  - Attributes\n",
    "  - Behaviour\n",
    "  - eg:parrot is an object\n",
    "     - name,age,color as attributes\n",
    "     - singing,dancing as behhaviour\n",
    "     \n",
    "# OOPS In Python\n",
    "- class\n",
    "- object\n",
    "- methods\n",
    "- contructor\n",
    "- inheritance"
   ]
  },
  {
   "cell_type": "code",
   "execution_count": 1,
   "metadata": {},
   "outputs": [],
   "source": [
    "# Syntax:\n",
    "class Parrot:\n",
    "    pass # to avoid getting error "
   ]
  },
  {
   "cell_type": "markdown",
   "metadata": {},
   "source": [
    "# Object:\n",
    "- when class is defined,only the dscription for objects defined"
   ]
  },
  {
   "cell_type": "code",
   "execution_count": null,
   "metadata": {},
   "outputs": [],
   "source": [
    "# create a object\n",
    "obj = Parrot() # Obj is an object of class Parrot"
   ]
  },
  {
   "cell_type": "code",
   "execution_count": 2,
   "metadata": {},
   "outputs": [
    {
     "name": "stdout",
     "output_type": "stream",
     "text": [
      "<class '__main__.cls'>\n"
     ]
    }
   ],
   "source": [
    "# Create a class\n",
    "class cls:\n",
    "    x = 10\n",
    "print(cls)"
   ]
  },
  {
   "cell_type": "code",
   "execution_count": 3,
   "metadata": {},
   "outputs": [
    {
     "name": "stdout",
     "output_type": "stream",
     "text": [
      "10\n"
     ]
    }
   ],
   "source": [
    "# create a object\n",
    "class cls:\n",
    "    x =10\n",
    "a = cls() # object named a and print the value of x\n",
    "print(a.x)"
   ]
  },
  {
   "cell_type": "code",
   "execution_count": 4,
   "metadata": {},
   "outputs": [
    {
     "name": "stdout",
     "output_type": "stream",
     "text": [
      "test method from cls class\n"
     ]
    }
   ],
   "source": [
    "# creating a method in class\n",
    "class cls:\n",
    "    # create a method:\n",
    "    def test(self): # self parameter is used to access variables that belongs to class\n",
    "        print(\"test method from cls class\")\n",
    "obj = cls()\n",
    "obj.test()"
   ]
  },
  {
   "cell_type": "code",
   "execution_count": 5,
   "metadata": {},
   "outputs": [
    {
     "name": "stdout",
     "output_type": "stream",
     "text": [
      "My name is : Ajay\n"
     ]
    }
   ],
   "source": [
    "class cls1:\n",
    "    def test1(self,name):\n",
    "        print(\"My name is :\",name)\n",
    "obj1 = cls1()\n",
    "obj1.test1(\"Ajay\")"
   ]
  },
  {
   "cell_type": "code",
   "execution_count": 6,
   "metadata": {},
   "outputs": [
    {
     "data": {
      "text/plain": [
       "19"
      ]
     },
     "execution_count": 6,
     "metadata": {},
     "output_type": "execute_result"
    }
   ],
   "source": [
    "# Add 3 number\n",
    "class cls2:\n",
    "    def add(self,a,b,c):\n",
    "        return a+b+c\n",
    "obj = cls2()\n",
    "obj.add(5,8,6)"
   ]
  },
  {
   "cell_type": "markdown",
   "metadata": {},
   "source": [
    "# Constructor - init function()\n",
    "- All classes have a function class __init__ function\n",
    "- use init() to assign values to object properties"
   ]
  },
  {
   "cell_type": "code",
   "execution_count": 8,
   "metadata": {},
   "outputs": [
    {
     "name": "stdout",
     "output_type": "stream",
     "text": [
      "Ajay\n",
      "20\n"
     ]
    }
   ],
   "source": [
    "# create class named Person,use init function to assign values for name,age\n",
    "class Person:\n",
    "    def __init__(self,name,age):# init is called automatically everytime the class is being used to crate a new obj\n",
    "        self.name = name\n",
    "        self.age = age\n",
    "p1 = Person(\"Ajay\",20)\n",
    "print(p1.name)\n",
    "print(p1.age)        "
   ]
  },
  {
   "cell_type": "code",
   "execution_count": 10,
   "metadata": {},
   "outputs": [
    {
     "name": "stdout",
     "output_type": "stream",
     "text": [
      "Hi,My name is :Ajay\n",
      "Ajay\n",
      "20\n"
     ]
    }
   ],
   "source": [
    "# craete a method\n",
    "class Person:\n",
    "    def __init__(self,name,age):# init is called automatically everytime the class is being used to crate a new obj\n",
    "        self.name = name\n",
    "        self.age = age\n",
    "    def mymethod(self):\n",
    "        print(\"Hi,My name is :\"+self.name)\n",
    "p1= Person(\"Ajay\",20)\n",
    "p1.mymethod()\n",
    "print(p1.name)\n",
    "print(p1.age)        "
   ]
  },
  {
   "cell_type": "code",
   "execution_count": 13,
   "metadata": {},
   "outputs": [
    {
     "name": "stdout",
     "output_type": "stream",
     "text": [
      "30\n",
      "Vijay\n"
     ]
    }
   ],
   "source": [
    "# modify Object Properties:\n",
    "class Person:\n",
    "    def __init__(self,name,age):# init is called automatically everytime the class is being used to crate a new obj\n",
    "        self.name = name\n",
    "        self.age = age\n",
    "    def mymethod(self):\n",
    "        print(\"Hi,My name is :\"+self.name)\n",
    "p1 = Person(\"Ajay\",20)\n",
    "p1.age = 30\n",
    "p1.name = \"Vijay\"\n",
    "print(p1.age)\n",
    "print(p1.name)\n"
   ]
  },
  {
   "cell_type": "code",
   "execution_count": 15,
   "metadata": {},
   "outputs": [
    {
     "name": "stdout",
     "output_type": "stream",
     "text": [
      "Ajay\n"
     ]
    },
    {
     "ename": "AttributeError",
     "evalue": "'Person' object has no attribute 'age'",
     "output_type": "error",
     "traceback": [
      "\u001b[1;31m---------------------------------------------------------------------------\u001b[0m",
      "\u001b[1;31mAttributeError\u001b[0m                            Traceback (most recent call last)",
      "\u001b[1;32m<ipython-input-15-20d772e30dcc>\u001b[0m in \u001b[0;36m<module>\u001b[1;34m\u001b[0m\n\u001b[0;32m      9\u001b[0m \u001b[1;32mdel\u001b[0m \u001b[0mp1\u001b[0m\u001b[1;33m.\u001b[0m\u001b[0mage\u001b[0m\u001b[1;33m\u001b[0m\u001b[1;33m\u001b[0m\u001b[0m\n\u001b[0;32m     10\u001b[0m \u001b[0mprint\u001b[0m\u001b[1;33m(\u001b[0m\u001b[0mp1\u001b[0m\u001b[1;33m.\u001b[0m\u001b[0mname\u001b[0m\u001b[1;33m)\u001b[0m\u001b[1;33m\u001b[0m\u001b[1;33m\u001b[0m\u001b[0m\n\u001b[1;32m---> 11\u001b[1;33m \u001b[0mprint\u001b[0m\u001b[1;33m(\u001b[0m\u001b[0mp1\u001b[0m\u001b[1;33m.\u001b[0m\u001b[0mage\u001b[0m\u001b[1;33m)\u001b[0m\u001b[1;33m\u001b[0m\u001b[1;33m\u001b[0m\u001b[0m\n\u001b[0m",
      "\u001b[1;31mAttributeError\u001b[0m: 'Person' object has no attribute 'age'"
     ]
    }
   ],
   "source": [
    "# Delete Object Properties:\n",
    "class Person:\n",
    "    def __init__(self,name,age):# init is called automatically everytime the class is being used to crate a new obj\n",
    "        self.name = name\n",
    "        self.age = age\n",
    "    def mymethod(self):\n",
    "        print(\"Hi,My name is :\"+self.name)\n",
    "p1 = Person(\"Ajay\",20)\n",
    "del p1.age\n",
    "print(p1.name)\n",
    "print(p1.age)"
   ]
  },
  {
   "cell_type": "code",
   "execution_count": null,
   "metadata": {},
   "outputs": [],
   "source": []
  }
 ],
 "metadata": {
  "kernelspec": {
   "display_name": "Python 3",
   "language": "python",
   "name": "python3"
  },
  "language_info": {
   "codemirror_mode": {
    "name": "ipython",
    "version": 3
   },
   "file_extension": ".py",
   "mimetype": "text/x-python",
   "name": "python",
   "nbconvert_exporter": "python",
   "pygments_lexer": "ipython3",
   "version": "3.8.5"
  }
 },
 "nbformat": 4,
 "nbformat_minor": 4
}
