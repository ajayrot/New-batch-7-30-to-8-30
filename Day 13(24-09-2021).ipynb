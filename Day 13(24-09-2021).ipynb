{
 "cells": [
  {
   "cell_type": "code",
   "execution_count": 1,
   "metadata": {},
   "outputs": [
    {
     "name": "stdout",
     "output_type": "stream",
     "text": [
      "1 2 3 4 5 6 7 8 9 10 11 12 13 14 15 16 17 18 19 20 21 22 23 24 25 26 27 28 29 30 31 32 33 34 35 36 37 38 39 40 41 42 43 44 45 46 47 48 49 50 "
     ]
    }
   ],
   "source": [
    "# Print N Natural Numbers with for loop\n",
    "def naturalnumber(n):\n",
    "    for i in range(1,n+1):\n",
    "        print(i,end = \" \")\n",
    "naturalnumber(50)"
   ]
  },
  {
   "cell_type": "code",
   "execution_count": 2,
   "metadata": {},
   "outputs": [
    {
     "name": "stdout",
     "output_type": "stream",
     "text": [
      "1 2 3 4 5 6 7 8 9 10 "
     ]
    }
   ],
   "source": [
    "# input: 1,10\n",
    "# output: 1 2 3 4 5 6 7 8 9 10\n",
    "def series(s,e):\n",
    "    for i in range(s,e+1):\n",
    "        print(i,end = \" \")\n",
    "series(1,10)\n"
   ]
  },
  {
   "cell_type": "markdown",
   "metadata": {},
   "source": [
    "# Dictionary\n",
    "\n",
    "## Contact Application:\n",
    "- Add Contacts\n",
    "- search Contacts\n",
    "- update contacts\n",
    "- delete Contacts\n",
    "- Merge Contacts"
   ]
  },
  {
   "cell_type": "code",
   "execution_count": 3,
   "metadata": {},
   "outputs": [
    {
     "name": "stdout",
     "output_type": "stream",
     "text": [
      "Contact is added\n"
     ]
    }
   ],
   "source": [
    "# Add Contacts:\n",
    "contacts = { }\n",
    "def addcontacts(name,number):\n",
    "    if name not in contacts:\n",
    "        contacts[name] = number\n",
    "        print(\"Contact is added\")\n",
    "    else:\n",
    "        print(\"Contact Already Exist\")\n",
    "addcontacts(\"AJay\",\"6546416461\")\n"
   ]
  },
  {
   "cell_type": "code",
   "execution_count": 4,
   "metadata": {},
   "outputs": [
    {
     "data": {
      "text/plain": [
       "{'AJay': '6546416461'}"
      ]
     },
     "execution_count": 4,
     "metadata": {},
     "output_type": "execute_result"
    }
   ],
   "source": [
    "contacts"
   ]
  },
  {
   "cell_type": "code",
   "execution_count": 5,
   "metadata": {},
   "outputs": [
    {
     "name": "stdout",
     "output_type": "stream",
     "text": [
      "Contact is added\n"
     ]
    }
   ],
   "source": [
    "addcontacts(\"Vijay\",\"6989645646\")"
   ]
  },
  {
   "cell_type": "code",
   "execution_count": 6,
   "metadata": {},
   "outputs": [
    {
     "data": {
      "text/plain": [
       "{'AJay': '6546416461', 'Vijay': '6989645646'}"
      ]
     },
     "execution_count": 6,
     "metadata": {},
     "output_type": "execute_result"
    }
   ],
   "source": [
    "contacts"
   ]
  },
  {
   "cell_type": "code",
   "execution_count": 7,
   "metadata": {},
   "outputs": [
    {
     "name": "stdout",
     "output_type": "stream",
     "text": [
      "Contact is deleted\n"
     ]
    }
   ],
   "source": [
    "# Delete Contacts:\n",
    "def deletecontacts(name):\n",
    "    if name in contacts:\n",
    "        del contacts[name]\n",
    "        print(\"Contact is deleted\")\n",
    "    else:\n",
    "        print(\"Contact not found\")\n",
    "deletecontacts(\"Vijay\")"
   ]
  },
  {
   "cell_type": "code",
   "execution_count": 8,
   "metadata": {},
   "outputs": [
    {
     "data": {
      "text/plain": [
       "{'AJay': '6546416461'}"
      ]
     },
     "execution_count": 8,
     "metadata": {},
     "output_type": "execute_result"
    }
   ],
   "source": [
    "contacts"
   ]
  },
  {
   "cell_type": "code",
   "execution_count": 17,
   "metadata": {},
   "outputs": [
    {
     "name": "stdout",
     "output_type": "stream",
     "text": [
      "Contact not exist\n"
     ]
    }
   ],
   "source": [
    "# Search Contacts\n",
    "def searchcontacts(name):\n",
    "    if name in contacts:\n",
    "        print(name, ':',contacts[name])\n",
    "    else:\n",
    "        print(\"Contact not exist\")\n",
    "searchcontacts(\"Vijay\")"
   ]
  },
  {
   "cell_type": "code",
   "execution_count": 15,
   "metadata": {},
   "outputs": [
    {
     "data": {
      "text/plain": [
       "{'AJay': '6546416461'}"
      ]
     },
     "execution_count": 15,
     "metadata": {},
     "output_type": "execute_result"
    }
   ],
   "source": [
    "contacts"
   ]
  },
  {
   "cell_type": "code",
   "execution_count": 18,
   "metadata": {},
   "outputs": [
    {
     "name": "stdout",
     "output_type": "stream",
     "text": [
      "AJay : 6546416461\n"
     ]
    }
   ],
   "source": [
    "searchcontacts(\"AJay\")"
   ]
  },
  {
   "cell_type": "code",
   "execution_count": 19,
   "metadata": {},
   "outputs": [
    {
     "name": "stdout",
     "output_type": "stream",
     "text": [
      "3 Contacts are added\n"
     ]
    }
   ],
   "source": [
    "#Merge Contacts\n",
    "def mergecontacts(newcontacts):\n",
    "    contacts.update(newcontacts)\n",
    "    print(len(newcontacts.keys()),\"Contacts are added\")\n",
    "newcontacts = {\"Raj\":\"4865464565\",\"Ram\":\"65856147884\",\"Man\":\"4564886654\"}\n",
    "mergecontacts(newcontacts)"
   ]
  },
  {
   "cell_type": "code",
   "execution_count": 20,
   "metadata": {},
   "outputs": [
    {
     "data": {
      "text/plain": [
       "{'AJay': '6546416461',\n",
       " 'Raj': '4865464565',\n",
       " 'Ram': '65856147884',\n",
       " 'Man': '4564886654'}"
      ]
     },
     "execution_count": 20,
     "metadata": {},
     "output_type": "execute_result"
    }
   ],
   "source": [
    "contacts"
   ]
  },
  {
   "cell_type": "code",
   "execution_count": 21,
   "metadata": {},
   "outputs": [
    {
     "name": "stdout",
     "output_type": "stream",
     "text": [
      "key = AJay || value = 6546416461\n",
      "key = Man || value = 4564886654\n",
      "key = Raj || value = 4865464565\n",
      "key = Ram || value = 65856147884\n"
     ]
    }
   ],
   "source": [
    "# sort Contacts\n",
    "def sortcontacts(contacts):\n",
    "    for key in sorted(contacts.keys()):\n",
    "        print('key =',key,'||',\"value =\",contacts[key])\n",
    "sortcontacts(contacts)\n",
    "        "
   ]
  },
  {
   "cell_type": "code",
   "execution_count": null,
   "metadata": {},
   "outputs": [],
   "source": []
  }
 ],
 "metadata": {
  "kernelspec": {
   "display_name": "Python 3",
   "language": "python",
   "name": "python3"
  },
  "language_info": {
   "codemirror_mode": {
    "name": "ipython",
    "version": 3
   },
   "file_extension": ".py",
   "mimetype": "text/x-python",
   "name": "python",
   "nbconvert_exporter": "python",
   "pygments_lexer": "ipython3",
   "version": "3.8.5"
  }
 },
 "nbformat": 4,
 "nbformat_minor": 4
}
